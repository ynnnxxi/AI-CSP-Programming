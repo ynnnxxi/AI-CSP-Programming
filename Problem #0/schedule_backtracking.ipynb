{
 "cells": [
  {
   "cell_type": "code",
   "execution_count": 1,
   "id": "0c6b2770",
   "metadata": {},
   "outputs": [],
   "source": [
    "VARIABLES = [\"A\", \"B\", \"C\", \"D\", \"E\", \"F\", \"G\"]\n",
    "CONSTRAINTS = [\n",
    "    (\"A\", \"B\"),\n",
    "    (\"A\", \"C\"),\n",
    "    (\"B\", \"C\"),\n",
    "    (\"B\", \"D\"),\n",
    "    (\"B\", \"E\"),\n",
    "    (\"C\", \"E\"),\n",
    "    (\"C\", \"F\"),\n",
    "    (\"D\", \"E\"),\n",
    "    (\"E\", \"F\"),\n",
    "    (\"E\", \"G\"),\n",
    "    (\"F\", \"G\")\n",
    "]"
   ]
  },
  {
   "cell_type": "code",
   "execution_count": 2,
   "id": "23edb1a6",
   "metadata": {},
   "outputs": [],
   "source": [
    "# 백트래킹 카운터 초기화\n",
    "backtrack_counter = {var: 0 for var in VARIABLES}\n",
    "\n",
    "def backtrack(assignment):\n",
    "    \"\"\"Runs backtracking search to find an assignment.\"\"\"\n",
    "\n",
    "    # Check if assignment is complete\n",
    "    if len(assignment) == len(VARIABLES):\n",
    "        return assignment\n",
    "\n",
    "    # Try a new variable\n",
    "    var = select_unassigned_variable(assignment)\n",
    "    for value in [\"Monday\", \"Tuesday\", \"Wednesday\"]:\n",
    "        new_assignment = assignment.copy()\n",
    "        new_assignment[var] = value\n",
    "        if consistent(new_assignment):\n",
    "            # 값 변경 시 백트래킹 카운터 증가\n",
    "            if var in assignment and assignment[var] != value:\n",
    "                backtrack_counter[var] += 1\n",
    "            result = backtrack(new_assignment)\n",
    "            if result is not None:\n",
    "                return result\n",
    "    return None"
   ]
  },
  {
   "cell_type": "code",
   "execution_count": 3,
   "id": "876cb5e9",
   "metadata": {},
   "outputs": [],
   "source": [
    "def select_unassigned_variable(assignment):\n",
    "    \"\"\"Chooses a variable not yet assigned, in order.\"\"\"\n",
    "    for variable in VARIABLES:\n",
    "        if variable not in assignment:\n",
    "            return variable\n",
    "    return None"
   ]
  },
  {
   "cell_type": "code",
   "execution_count": 4,
   "id": "e16be3a2",
   "metadata": {},
   "outputs": [],
   "source": [
    "def consistent(assignment):\n",
    "    \"\"\"Checks to see if an assignment is consistent.\"\"\"\n",
    "    for (x, y) in CONSTRAINTS:\n",
    "\n",
    "        # Only consider arcs where both are assigned\n",
    "        if x not in assignment or y not in assignment:\n",
    "            continue\n",
    "\n",
    "        # If both have same value, then not consistent\n",
    "        if assignment[x] == assignment[y]:\n",
    "            return False\n",
    "\n",
    "    # If nothing inconsistent, then assignment is consistent\n",
    "    return True"
   ]
  },
  {
   "cell_type": "code",
   "execution_count": 5,
   "id": "eb6f32e1",
   "metadata": {},
   "outputs": [
    {
     "name": "stdout",
     "output_type": "stream",
     "text": [
      "Solution: {'A': 'Monday', 'B': 'Tuesday', 'C': 'Wednesday', 'D': 'Wednesday', 'E': 'Monday', 'F': 'Tuesday', 'G': 'Wednesday'}\n",
      "Backtracking Counts: {'A': 0, 'B': 0, 'C': 0, 'D': 0, 'E': 0, 'F': 0, 'G': 0}\n"
     ]
    }
   ],
   "source": [
    "solution = backtrack(dict())\n",
    "print(\"Solution:\", solution)\n",
    "print(\"Backtracking Counts:\", backtrack_counter)"
   ]
  },
  {
   "cell_type": "code",
   "execution_count": null,
   "id": "7cfd486b",
   "metadata": {},
   "outputs": [],
   "source": []
  }
 ],
 "metadata": {
  "kernelspec": {
   "display_name": "Python 3 (ipykernel)",
   "language": "python",
   "name": "python3"
  },
  "language_info": {
   "codemirror_mode": {
    "name": "ipython",
    "version": 3
   },
   "file_extension": ".py",
   "mimetype": "text/x-python",
   "name": "python",
   "nbconvert_exporter": "python",
   "pygments_lexer": "ipython3",
   "version": "3.9.12"
  }
 },
 "nbformat": 4,
 "nbformat_minor": 5
}
