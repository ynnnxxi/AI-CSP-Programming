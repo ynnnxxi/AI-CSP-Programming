{
 "cells": [
  {
   "cell_type": "code",
   "execution_count": 1,
   "id": "b8e45711",
   "metadata": {},
   "outputs": [],
   "source": [
    "from constraint import *"
   ]
  },
  {
   "cell_type": "code",
   "execution_count": 2,
   "id": "e10c4b8d",
   "metadata": {},
   "outputs": [],
   "source": [
    "problem = Problem()"
   ]
  },
  {
   "cell_type": "code",
   "execution_count": 3,
   "id": "6c717eda",
   "metadata": {},
   "outputs": [],
   "source": [
    "# Add variables\n",
    "problem.addVariables(\n",
    "    [\"A\", \"B\", \"C\", \"D\", \"E\", \"F\", \"G\"],\n",
    "    [\"Monday\", \"Tuesday\", \"Wednesday\"]\n",
    ")"
   ]
  },
  {
   "cell_type": "code",
   "execution_count": 4,
   "id": "72be7d76",
   "metadata": {},
   "outputs": [],
   "source": [
    "# Add constraints\n",
    "CONSTRAINTS = [\n",
    "    (\"A\", \"B\"),\n",
    "    (\"A\", \"C\"),\n",
    "    (\"B\", \"C\"),\n",
    "    (\"B\", \"D\"),\n",
    "    (\"B\", \"E\"),\n",
    "    (\"C\", \"E\"),\n",
    "    (\"C\", \"F\"),\n",
    "    (\"D\", \"E\"),\n",
    "    (\"E\", \"F\"),\n",
    "    (\"E\", \"G\"),\n",
    "    (\"F\", \"G\")\n",
    "]"
   ]
  },
  {
   "cell_type": "code",
   "execution_count": 5,
   "id": "3b512d42",
   "metadata": {},
   "outputs": [
    {
     "name": "stdout",
     "output_type": "stream",
     "text": [
      "{'E': 'Wednesday', 'B': 'Tuesday', 'C': 'Monday', 'F': 'Tuesday', 'A': 'Wednesday', 'D': 'Monday', 'G': 'Monday'}\n",
      "{'E': 'Wednesday', 'B': 'Monday', 'C': 'Tuesday', 'F': 'Monday', 'A': 'Wednesday', 'D': 'Tuesday', 'G': 'Tuesday'}\n",
      "{'E': 'Tuesday', 'B': 'Wednesday', 'C': 'Monday', 'F': 'Wednesday', 'A': 'Tuesday', 'D': 'Monday', 'G': 'Monday'}\n",
      "{'E': 'Tuesday', 'B': 'Monday', 'C': 'Wednesday', 'F': 'Monday', 'A': 'Tuesday', 'D': 'Wednesday', 'G': 'Wednesday'}\n",
      "{'E': 'Monday', 'B': 'Tuesday', 'C': 'Wednesday', 'F': 'Tuesday', 'A': 'Monday', 'D': 'Wednesday', 'G': 'Wednesday'}\n",
      "{'E': 'Monday', 'B': 'Wednesday', 'C': 'Tuesday', 'F': 'Wednesday', 'A': 'Monday', 'D': 'Tuesday', 'G': 'Tuesday'}\n"
     ]
    }
   ],
   "source": [
    "for x, y in CONSTRAINTS:\n",
    "    problem.addConstraint(lambda x, y: x != y, (x, y))\n",
    "\n",
    "# Solve problem\n",
    "for solution in problem.getSolutions():\n",
    "    print(solution)"
   ]
  },
  {
   "cell_type": "code",
   "execution_count": null,
   "id": "565560b0",
   "metadata": {},
   "outputs": [],
   "source": []
  }
 ],
 "metadata": {
  "kernelspec": {
   "display_name": "Python 3 (ipykernel)",
   "language": "python",
   "name": "python3"
  },
  "language_info": {
   "codemirror_mode": {
    "name": "ipython",
    "version": 3
   },
   "file_extension": ".py",
   "mimetype": "text/x-python",
   "name": "python",
   "nbconvert_exporter": "python",
   "pygments_lexer": "ipython3",
   "version": "3.9.12"
  }
 },
 "nbformat": 4,
 "nbformat_minor": 5
}
