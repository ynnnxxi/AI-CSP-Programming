{
 "cells": [
  {
   "cell_type": "code",
   "execution_count": 1,
   "id": "a32c6dc7",
   "metadata": {},
   "outputs": [],
   "source": [
    "from constraint import *"
   ]
  },
  {
   "cell_type": "code",
   "execution_count": 2,
   "id": "0aa1c780",
   "metadata": {},
   "outputs": [],
   "source": [
    "class CustomProblem(Problem):\n",
    "    def __init__(self):\n",
    "        super(CustomProblem, self).__init__()\n",
    "        self.backtrack_counter = {}\n",
    "\n",
    "    def addVariable(self, variable, domain):\n",
    "        super(CustomProblem, self).addVariable(variable, domain)\n",
    "        self.backtrack_counter[variable] = 0\n",
    "\n",
    "    def getSolutionIter(self, domains, assignments, forwardcheck=False, single=False):\n",
    "        for var in assignments:\n",
    "            if var not in self.backtrack_counter:\n",
    "                self.backtrack_counter[var] = 0\n",
    "            else:\n",
    "                self.backtrack_counter[var] += 1\n",
    "        yield from super(CustomProblem, self).getSolutionIter(domains, assignments, forwardcheck, single)\n",
    "\n",
    "problem = CustomProblem()"
   ]
  },
  {
   "cell_type": "code",
   "execution_count": 3,
   "id": "809eeae7",
   "metadata": {},
   "outputs": [],
   "source": [
    "# 변수 및 값 추가\n",
    "problem.addVariables([\"A\", \"B\", \"C\", \"D\", \"E\", \"F\", \"G\"], [\"Monday\", \"Tuesday\", \"Wednesday\"])\n",
    "\n",
    "# 제약 조건 추가\n",
    "CONSTRAINTS = [(\"A\", \"B\"), (\"A\", \"C\"), (\"B\", \"C\"), (\"B\", \"D\"), (\"B\", \"E\"), (\"C\", \"E\"), (\"C\", \"F\"), (\"D\", \"E\"), (\"E\", \"F\"), (\"E\", \"G\"), (\"F\", \"G\")]\n",
    "for x, y in CONSTRAINTS:\n",
    "    problem.addConstraint(lambda x, y: x != y, (x, y))"
   ]
  },
  {
   "cell_type": "code",
   "execution_count": 4,
   "id": "a496e619",
   "metadata": {},
   "outputs": [
    {
     "name": "stdout",
     "output_type": "stream",
     "text": [
      "{'E': 'Wednesday', 'B': 'Tuesday', 'C': 'Monday', 'F': 'Tuesday', 'A': 'Wednesday', 'D': 'Monday', 'G': 'Monday'}\n",
      "{'E': 'Wednesday', 'B': 'Monday', 'C': 'Tuesday', 'F': 'Monday', 'A': 'Wednesday', 'D': 'Tuesday', 'G': 'Tuesday'}\n",
      "{'E': 'Tuesday', 'B': 'Wednesday', 'C': 'Monday', 'F': 'Wednesday', 'A': 'Tuesday', 'D': 'Monday', 'G': 'Monday'}\n",
      "{'E': 'Tuesday', 'B': 'Monday', 'C': 'Wednesday', 'F': 'Monday', 'A': 'Tuesday', 'D': 'Wednesday', 'G': 'Wednesday'}\n",
      "{'E': 'Monday', 'B': 'Tuesday', 'C': 'Wednesday', 'F': 'Tuesday', 'A': 'Monday', 'D': 'Wednesday', 'G': 'Wednesday'}\n",
      "{'E': 'Monday', 'B': 'Wednesday', 'C': 'Tuesday', 'F': 'Wednesday', 'A': 'Monday', 'D': 'Tuesday', 'G': 'Tuesday'}\n"
     ]
    }
   ],
   "source": [
    "# 문제 해결\n",
    "for solution in problem.getSolutions():\n",
    "    print(solution)"
   ]
  },
  {
   "cell_type": "code",
   "execution_count": 5,
   "id": "96a1c664",
   "metadata": {},
   "outputs": [
    {
     "name": "stdout",
     "output_type": "stream",
     "text": [
      "{'A': 0, 'B': 0, 'C': 0, 'D': 0, 'E': 0, 'F': 0, 'G': 0}\n"
     ]
    }
   ],
   "source": [
    "# 백트래킹 횟수 출력\n",
    "print(problem.backtrack_counter)"
   ]
  },
  {
   "cell_type": "code",
   "execution_count": null,
   "id": "6ca1f299",
   "metadata": {},
   "outputs": [],
   "source": []
  }
 ],
 "metadata": {
  "kernelspec": {
   "display_name": "Python 3 (ipykernel)",
   "language": "python",
   "name": "python3"
  },
  "language_info": {
   "codemirror_mode": {
    "name": "ipython",
    "version": 3
   },
   "file_extension": ".py",
   "mimetype": "text/x-python",
   "name": "python",
   "nbconvert_exporter": "python",
   "pygments_lexer": "ipython3",
   "version": "3.9.12"
  }
 },
 "nbformat": 4,
 "nbformat_minor": 5
}
