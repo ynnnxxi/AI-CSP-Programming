{
 "cells": [
  {
   "cell_type": "code",
   "execution_count": 2,
   "id": "8f346e72",
   "metadata": {},
   "outputs": [
    {
     "name": "stdout",
     "output_type": "stream",
     "text": [
      "T=9 W=3 O=8 F=1 U=7 R=6\n",
      "T=9 W=2 O=8 F=1 U=5 R=6\n",
      "T=8 W=6 O=7 F=1 U=3 R=4\n",
      "T=8 W=4 O=6 F=1 U=9 R=2\n",
      "T=8 W=3 O=6 F=1 U=7 R=2\n",
      "T=7 W=6 O=5 F=1 U=3 R=0\n",
      "T=7 W=3 O=4 F=1 U=6 R=8\n",
      "제약 조건 체크 횟수 (대략적인 백트래킹 횟수): 967687\n"
     ]
    }
   ],
   "source": [
    "from constraint import *\n",
    "\n",
    "# 제약 조건 체크 횟수를 위한 전역 카운터\n",
    "constraint_check_counter = 0\n",
    "\n",
    "def check_constraints(t, w, o, f, u, r, x1, x2, x3):\n",
    "    global constraint_check_counter\n",
    "    constraint_check_counter += 1  # 이 함수가 호출될 때마다 카운터를 증가시킵니다\n",
    "    \n",
    "    # 제약 조건 로직은 그대로 유지\n",
    "    if 2 * o != r + 10 * x1:\n",
    "        return False\n",
    "    if 2 * w + x1 != u + 10 * x2:\n",
    "        return False\n",
    "    if 2 * t + x2 != o + 10 * x3:\n",
    "        return False\n",
    "    if f != x3:\n",
    "        return False\n",
    "    return True\n",
    "\n",
    "# 문제 초기화\n",
    "problem = Problem()\n",
    "\n",
    "# 변수 추가\n",
    "problem.addVariables(['T', 'F'], range(1, 10))  # T와 F는 0이 될 수 없습니다\n",
    "problem.addVariables(['W', 'O', 'U', 'R'], range(10))  # W, O, U, R은 어떤 숫자도 될 수 있습니다\n",
    "problem.addVariables(['X1', 'X2', 'X3'], [0, 1])  # 자리 올림 변수\n",
    "\n",
    "# 모든 숫자는 서로 달라야 함\n",
    "problem.addConstraint(lambda F, T, U, W, R, O: len(set([F, T, U, W, R, O])) == 6, ('F', 'T', 'U', 'W', 'R', 'O'))\n",
    "\n",
    "# 문제에 대한 사용자 정의 제약 조건 추가\n",
    "problem.addConstraint(check_constraints, ('T', 'W', 'O', 'F', 'U', 'R', 'X1', 'X2', 'X3'))\n",
    "\n",
    "# 해답 구하기\n",
    "solutions = problem.getSolutions()\n",
    "\n",
    "# 해답 출력\n",
    "for solution in solutions:\n",
    "    print(f\"T={solution['T']} W={solution['W']} O={solution['O']} F={solution['F']} U={solution['U']} R={solution['R']}\")\n",
    "\n",
    "# 제약 조건 체크 횟수 출력\n",
    "print(\"제약 조건 체크 횟수 (대략적인 백트래킹 횟수):\", constraint_check_counter)\n"
   ]
  },
  {
   "cell_type": "code",
   "execution_count": null,
   "id": "82f184a5",
   "metadata": {},
   "outputs": [],
   "source": []
  }
 ],
 "metadata": {
  "kernelspec": {
   "display_name": "Python 3 (ipykernel)",
   "language": "python",
   "name": "python3"
  },
  "language_info": {
   "codemirror_mode": {
    "name": "ipython",
    "version": 3
   },
   "file_extension": ".py",
   "mimetype": "text/x-python",
   "name": "python",
   "nbconvert_exporter": "python",
   "pygments_lexer": "ipython3",
   "version": "3.9.12"
  }
 },
 "nbformat": 4,
 "nbformat_minor": 5
}
