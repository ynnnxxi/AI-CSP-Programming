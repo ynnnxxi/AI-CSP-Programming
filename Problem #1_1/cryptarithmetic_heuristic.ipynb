{
 "cells": [
  {
   "cell_type": "code",
   "execution_count": 2,
   "id": "6e0c0264",
   "metadata": {},
   "outputs": [
    {
     "name": "stdout",
     "output_type": "stream",
     "text": [
      "T=9 W=3 O=8 F=1 U=7 R=6\n",
      "T=9 W=2 O=8 F=1 U=5 R=6\n",
      "T=8 W=6 O=7 F=1 U=3 R=4\n",
      "T=8 W=4 O=6 F=1 U=9 R=2\n",
      "T=8 W=3 O=6 F=1 U=7 R=2\n",
      "T=7 W=6 O=5 F=1 U=3 R=0\n",
      "T=7 W=3 O=4 F=1 U=6 R=8\n"
     ]
    }
   ],
   "source": [
    "from constraint import *\n",
    "\n",
    "def check_constraints(t, w, o, f, u, r, x1, x2, x3):\n",
    "    if 2 * o != r + 10 * x1:\n",
    "        return False\n",
    "    if 2 * w + x1 != u + 10 * x2:\n",
    "        return False\n",
    "    if 2 * t + x2 != o + 10 * x3:\n",
    "        return False\n",
    "    if f != x3:\n",
    "        return False\n",
    "    return True\n",
    "\n",
    "# Initialize the problem\n",
    "problem = Problem()\n",
    "\n",
    "# Variables T, F can only take the values from 1 to 9 (since they are the first digit)\n",
    "problem.addVariables(['T', 'F'], range(1, 10))\n",
    "\n",
    "# Variables W, O, U, R can take values from 0 to 9\n",
    "problem.addVariables(['W', 'O', 'U', 'R'], range(10))\n",
    "\n",
    "# Carry variables X1, X2, X3 can only be 0 or 1\n",
    "problem.addVariables(['X1', 'X2', 'X3'], [0, 1])\n",
    "\n",
    "# All digits must be different\n",
    "problem.addConstraint(lambda F, T, U, W, R, O: len(set([F, T, U, W, R, O])) == 6, ('F', 'T', 'U', 'W', 'R', 'O'))\n",
    "\n",
    "# Add custom constraint for the problem\n",
    "problem.addConstraint(check_constraints, ('T', 'W', 'O', 'F', 'U', 'R', 'X1', 'X2', 'X3'))\n",
    "\n",
    "# Get the solution\n",
    "solutions = problem.getSolutions()\n",
    "\n",
    "# Output the solutions\n",
    "for solution in solutions:\n",
    "    print(f\"T={solution['T']} W={solution['W']} O={solution['O']} F={solution['F']} U={solution['U']} R={solution['R']}\")\n"
   ]
  },
  {
   "cell_type": "code",
   "execution_count": null,
   "id": "da29f6e5",
   "metadata": {},
   "outputs": [],
   "source": []
  }
 ],
 "metadata": {
  "kernelspec": {
   "display_name": "Python 3 (ipykernel)",
   "language": "python",
   "name": "python3"
  },
  "language_info": {
   "codemirror_mode": {
    "name": "ipython",
    "version": 3
   },
   "file_extension": ".py",
   "mimetype": "text/x-python",
   "name": "python",
   "nbconvert_exporter": "python",
   "pygments_lexer": "ipython3",
   "version": "3.9.12"
  }
 },
 "nbformat": 4,
 "nbformat_minor": 5
}
