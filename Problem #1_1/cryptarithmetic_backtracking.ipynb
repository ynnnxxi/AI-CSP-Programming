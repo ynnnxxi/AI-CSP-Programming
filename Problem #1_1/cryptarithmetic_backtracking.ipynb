{
 "cells": [
  {
   "cell_type": "code",
   "execution_count": 2,
   "id": "b90a8d02",
   "metadata": {},
   "outputs": [
    {
     "name": "stdout",
     "output_type": "stream",
     "text": [
      "Solution: {'F': 0, 'T': 1, 'U': 4, 'W': 7, 'R': 6, 'O': 3}\n",
      "Backtracking steps: 1336\n"
     ]
    }
   ],
   "source": [
    "# Variables and domains remain the same\n",
    "variables = [\"F\", \"T\", \"U\", \"W\", \"R\", \"O\"]\n",
    "domains = {\n",
    "    \"F\": [0, 1, 2, 3, 4, 5, 6, 7, 8, 9],\n",
    "    \"T\": [1, 2, 3, 4, 5, 6, 7, 8, 9],\n",
    "    \"U\": [0, 1, 2, 3, 4, 5, 6, 7, 8, 9],\n",
    "    \"W\": [0, 1, 2, 3, 4, 5, 6, 7, 8, 9],\n",
    "    \"R\": [0, 1, 2, 3, 4, 5, 6, 7, 8, 9],\n",
    "    \"O\": [0, 1, 2, 3, 4, 5, 6, 7, 8, 9]\n",
    "}\n",
    "\n",
    "# Consistent function remains the same\n",
    "def consistent(assignment):\n",
    "    if len(set(assignment.values())) < len(assignment):\n",
    "        return False\n",
    "    if len(assignment) < len(variables):\n",
    "        return True\n",
    "    T, W, O, F, U, R = [assignment.get(var, 0) for var in \"TWOFUR\"]\n",
    "    two = T * 100 + W * 10 + O\n",
    "    four = F * 1000 + O * 100 + U * 10 + R\n",
    "    return two + two == four\n",
    "\n",
    "# Backtrack function with a counter for backtracking steps\n",
    "def backtrack(assignment, count):\n",
    "    if len(assignment) == len(variables):\n",
    "        return assignment if consistent(assignment) else None, count\n",
    "    \n",
    "    unassigned = [v for v in variables if v not in assignment]\n",
    "    var = unassigned[0]\n",
    "    \n",
    "    for value in domains[var]:\n",
    "        assignment[var] = value\n",
    "        count += 1  # Increment counter when a value is assigned\n",
    "        if consistent(assignment):\n",
    "            result, count = backtrack(assignment.copy(), count)\n",
    "            if result is not None:\n",
    "                return result, count\n",
    "        assignment.pop(var)\n",
    "    \n",
    "    return None, count\n",
    "\n",
    "# Start the backtracking process with an empty assignment and a counter\n",
    "solution, backtracking_steps = backtrack({}, 0)\n",
    "print(\"Solution:\", solution)\n",
    "print(\"Backtracking steps:\", backtracking_steps)"
   ]
  },
  {
   "cell_type": "code",
   "execution_count": null,
   "id": "d72c122b",
   "metadata": {},
   "outputs": [],
   "source": []
  }
 ],
 "metadata": {
  "kernelspec": {
   "display_name": "Python 3 (ipykernel)",
   "language": "python",
   "name": "python3"
  },
  "language_info": {
   "codemirror_mode": {
    "name": "ipython",
    "version": 3
   },
   "file_extension": ".py",
   "mimetype": "text/x-python",
   "name": "python",
   "nbconvert_exporter": "python",
   "pygments_lexer": "ipython3",
   "version": "3.9.12"
  }
 },
 "nbformat": 4,
 "nbformat_minor": 5
}
