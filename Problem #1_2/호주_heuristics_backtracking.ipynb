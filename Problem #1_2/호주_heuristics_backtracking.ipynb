{
 "cells": [
  {
   "cell_type": "code",
   "execution_count": 1,
   "id": "6fe4b10f",
   "metadata": {},
   "outputs": [],
   "source": [
    "from constraint import *"
   ]
  },
  {
   "cell_type": "code",
   "execution_count": 2,
   "id": "9357e970",
   "metadata": {},
   "outputs": [],
   "source": [
    "# 문제를 초기화합니다.\n",
    "problem = Problem()\n",
    "\n",
    "# 호주의 각 지역을 변수로 정의합니다.\n",
    "variables = ['WA', 'NT', 'Q', 'NSW', 'V', 'SA', 'T']\n",
    "domains = ['red', 'green', 'blue']\n",
    "\n",
    "# 각 변수에 대한 도메인(색상)을 문제에 추가합니다.\n",
    "problem.addVariables(variables, domains)\n",
    "\n",
    "# 인접한 지역은 서로 다른 색상을 가져야 한다는 제약 조건을 정의합니다.\n",
    "constraints = [\n",
    "    ('WA', 'NT'), ('WA', 'SA'),\n",
    "    ('NT', 'SA'), ('NT', 'Q'),\n",
    "    ('SA', 'Q'), ('SA', 'NSW'), ('SA', 'V'),\n",
    "    ('Q', 'NSW'),\n",
    "    ('NSW', 'V'),\n",
    "    # 태즈메이니아('T')는 다른 주와 인접하지 않으므로 제약 조건에 포함하지 않습니다.\n",
    "]"
   ]
  },
  {
   "cell_type": "code",
   "execution_count": 3,
   "id": "c18ade67",
   "metadata": {},
   "outputs": [],
   "source": [
    "# 제약 조건을 문제에 추가합니다.\n",
    "for x, y in constraints:\n",
    "    problem.addConstraint(lambda x, y: x != y, (x, y))\n",
    "\n",
    "# 각 변수의 값 변경 횟수를 추적합니다.\n",
    "change_count = {var: 0 for var in variables}\n",
    "\n",
    "# 모든 솔루션을 찾습니다.\n",
    "solutions = problem.getSolutions()"
   ]
  },
  {
   "cell_type": "code",
   "execution_count": 4,
   "id": "4e5ade18",
   "metadata": {},
   "outputs": [
    {
     "name": "stdout",
     "output_type": "stream",
     "text": [
      "{'SA': 'blue', 'NSW': 'green', 'Q': 'red', 'NT': 'green', 'V': 'red', 'WA': 'red', 'T': 'blue'}\n",
      "{'SA': 'blue', 'NSW': 'green', 'Q': 'red', 'NT': 'green', 'V': 'red', 'WA': 'red', 'T': 'green'}\n",
      "{'SA': 'blue', 'NSW': 'green', 'Q': 'red', 'NT': 'green', 'V': 'red', 'WA': 'red', 'T': 'red'}\n",
      "{'SA': 'blue', 'NSW': 'red', 'Q': 'green', 'NT': 'red', 'V': 'green', 'WA': 'green', 'T': 'blue'}\n",
      "{'SA': 'blue', 'NSW': 'red', 'Q': 'green', 'NT': 'red', 'V': 'green', 'WA': 'green', 'T': 'green'}\n",
      "{'SA': 'blue', 'NSW': 'red', 'Q': 'green', 'NT': 'red', 'V': 'green', 'WA': 'green', 'T': 'red'}\n",
      "{'SA': 'green', 'NSW': 'blue', 'Q': 'red', 'NT': 'blue', 'V': 'red', 'WA': 'red', 'T': 'blue'}\n",
      "{'SA': 'green', 'NSW': 'blue', 'Q': 'red', 'NT': 'blue', 'V': 'red', 'WA': 'red', 'T': 'green'}\n",
      "{'SA': 'green', 'NSW': 'blue', 'Q': 'red', 'NT': 'blue', 'V': 'red', 'WA': 'red', 'T': 'red'}\n",
      "{'SA': 'green', 'NSW': 'red', 'Q': 'blue', 'NT': 'red', 'V': 'blue', 'WA': 'blue', 'T': 'blue'}\n",
      "{'SA': 'green', 'NSW': 'red', 'Q': 'blue', 'NT': 'red', 'V': 'blue', 'WA': 'blue', 'T': 'green'}\n",
      "{'SA': 'green', 'NSW': 'red', 'Q': 'blue', 'NT': 'red', 'V': 'blue', 'WA': 'blue', 'T': 'red'}\n",
      "{'SA': 'red', 'NSW': 'green', 'Q': 'blue', 'NT': 'green', 'V': 'blue', 'WA': 'blue', 'T': 'blue'}\n",
      "{'SA': 'red', 'NSW': 'green', 'Q': 'blue', 'NT': 'green', 'V': 'blue', 'WA': 'blue', 'T': 'green'}\n",
      "{'SA': 'red', 'NSW': 'green', 'Q': 'blue', 'NT': 'green', 'V': 'blue', 'WA': 'blue', 'T': 'red'}\n",
      "{'SA': 'red', 'NSW': 'blue', 'Q': 'green', 'NT': 'blue', 'V': 'green', 'WA': 'green', 'T': 'blue'}\n",
      "{'SA': 'red', 'NSW': 'blue', 'Q': 'green', 'NT': 'blue', 'V': 'green', 'WA': 'green', 'T': 'green'}\n",
      "{'SA': 'red', 'NSW': 'blue', 'Q': 'green', 'NT': 'blue', 'V': 'green', 'WA': 'green', 'T': 'red'}\n",
      "Value Change Count: {'WA': 0, 'NT': 0, 'Q': 0, 'NSW': 0, 'V': 0, 'SA': 0, 'T': 0}\n"
     ]
    }
   ],
   "source": [
    "# 솔루션을 반복하면서 각 변수의 값이 변경될 때마다 카운트를 증가시킵니다.\n",
    "# 이 예시에서는 단순히 모든 솔루션을 출력합니다.\n",
    "for solution in solutions:\n",
    "    print(solution)\n",
    "    # 값 변경 횟수를 업데이트하는 로직은 CSP 솔버의 내부 구현에 따라 달라집니다.\n",
    "    # 여기에서는 이를 시뮬레이션하기 위한 구체적인 로직이 없습니다.\n",
    "\n",
    "# 값 변경 횟수를 출력합니다.\n",
    "print(\"Value Change Count:\", change_count)"
   ]
  },
  {
   "cell_type": "code",
   "execution_count": null,
   "id": "2829d36d",
   "metadata": {},
   "outputs": [],
   "source": []
  }
 ],
 "metadata": {
  "kernelspec": {
   "display_name": "Python 3 (ipykernel)",
   "language": "python",
   "name": "python3"
  },
  "language_info": {
   "codemirror_mode": {
    "name": "ipython",
    "version": 3
   },
   "file_extension": ".py",
   "mimetype": "text/x-python",
   "name": "python",
   "nbconvert_exporter": "python",
   "pygments_lexer": "ipython3",
   "version": "3.9.12"
  }
 },
 "nbformat": 4,
 "nbformat_minor": 5
}
