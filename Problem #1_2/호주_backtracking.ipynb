{
 "cells": [
  {
   "cell_type": "code",
   "execution_count": 1,
   "id": "6dac8639",
   "metadata": {},
   "outputs": [],
   "source": [
    "# 전역 변수로 백트래킹 횟수를 추적\n",
    "backtracking_count = {}\n",
    "\n",
    "# 변수들을 초기화\n",
    "VARIABLES = [\"WA\", \"NT\", \"Q\", \"NSW\", \"V\", \"SA\", \"T\"]\n",
    "for var in VARIABLES:\n",
    "    backtracking_count[var] = 0\n",
    "\n",
    "CONSTRAINTS = [\n",
    "    (\"WA\", \"NT\"), (\"WA\", \"SA\"),\n",
    "    (\"NT\", \"SA\"), (\"NT\", \"Q\"),\n",
    "    (\"SA\", \"Q\"), (\"SA\", \"NSW\"), (\"SA\", \"V\"),\n",
    "    (\"Q\", \"NSW\"),\n",
    "    (\"NSW\", \"V\"),\n",
    "    # 태즈메이니아는 실제로 남호주와 연결되어 있지 않으므로 제거합니다.\n",
    "]"
   ]
  },
  {
   "cell_type": "code",
   "execution_count": 2,
   "id": "f0f39b40",
   "metadata": {},
   "outputs": [],
   "source": [
    "def backtrack(assignment):\n",
    "    \"\"\"Runs backtracking search to find an assignment.\"\"\"\n",
    "    # Check if assignment is complete\n",
    "    if len(assignment) == len(VARIABLES):\n",
    "        return assignment\n",
    "\n",
    "    # Try a new variable\n",
    "    var = select_unassigned_variable(assignment)\n",
    "    for value in [\"red\", \"green\", \"blue\"]:\n",
    "        new_assignment = assignment.copy()\n",
    "        new_assignment[var] = value\n",
    "        if consistent(new_assignment):\n",
    "            result = backtrack(new_assignment)\n",
    "            if result is not None:\n",
    "                return result\n",
    "        # 값이 재할당될 때 백트래킹 카운트 증가\n",
    "        backtracking_count[var] += 1\n",
    "    return None\n",
    "\n",
    "def select_unassigned_variable(assignment):\n",
    "    \"\"\"Chooses a variable not yet assigned, in order.\"\"\"\n",
    "    for variable in VARIABLES:\n",
    "        if variable not in assignment:\n",
    "            return variable\n",
    "    return None\n",
    "\n",
    "def consistent(assignment):\n",
    "    \"\"\"Checks to see if an assignment is consistent.\"\"\"\n",
    "    for (x, y) in CONSTRAINTS:\n",
    "        # Only consider arcs where both are assigned\n",
    "        if x not in assignment or y not in assignment:\n",
    "            continue\n",
    "\n",
    "        # If both have same value, then not consistent\n",
    "        if assignment[x] == assignment[y]:\n",
    "            return False\n",
    "\n",
    "    # If nothing inconsistent, then assignment is consistent\n",
    "    return True"
   ]
  },
  {
   "cell_type": "code",
   "execution_count": 3,
   "id": "f7001698",
   "metadata": {},
   "outputs": [
    {
     "name": "stdout",
     "output_type": "stream",
     "text": [
      "{'WA': 'red', 'NT': 'green', 'Q': 'red', 'NSW': 'green', 'V': 'red', 'SA': 'blue', 'T': 'red'}\n",
      "{'WA': 0, 'NT': 1, 'Q': 0, 'NSW': 1, 'V': 0, 'SA': 2, 'T': 0}\n"
     ]
    }
   ],
   "source": [
    "solution = backtrack(dict())\n",
    "print(solution)\n",
    "print(backtracking_count)"
   ]
  },
  {
   "cell_type": "code",
   "execution_count": null,
   "id": "1b20e05c",
   "metadata": {},
   "outputs": [],
   "source": []
  }
 ],
 "metadata": {
  "kernelspec": {
   "display_name": "Python 3 (ipykernel)",
   "language": "python",
   "name": "python3"
  },
  "language_info": {
   "codemirror_mode": {
    "name": "ipython",
    "version": 3
   },
   "file_extension": ".py",
   "mimetype": "text/x-python",
   "name": "python",
   "nbconvert_exporter": "python",
   "pygments_lexer": "ipython3",
   "version": "3.9.12"
  }
 },
 "nbformat": 4,
 "nbformat_minor": 5
}
