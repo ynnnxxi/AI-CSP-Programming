{
 "cells": [
  {
   "cell_type": "code",
   "execution_count": 1,
   "id": "13c4aafe",
   "metadata": {},
   "outputs": [],
   "source": [
    "from constraint import *"
   ]
  },
  {
   "cell_type": "code",
   "execution_count": 2,
   "id": "5830a9bb",
   "metadata": {},
   "outputs": [],
   "source": [
    "# 문제를 초기화합니다.\n",
    "problem = Problem()\n",
    "\n",
    "# 호주의 각 지역을 변수로 정의합니다.\n",
    "variables = ['WA', 'NT', 'Q', 'NSW', 'V', 'SA', 'T']\n",
    "domains = ['red', 'green', 'blue']\n",
    "\n",
    "# 각 변수에 대한 도메인(색상)을 문제에 추가합니다.\n",
    "problem.addVariables(variables, domains)\n",
    "\n",
    "# 인접한 지역은 서로 다른 색상을 가져야 한다는 제약 조건을 정의합니다.\n",
    "constraints = [\n",
    "    ('WA', 'NT'), ('WA', 'SA'),\n",
    "    ('NT', 'SA'), ('NT', 'Q'),\n",
    "    ('SA', 'Q'), ('SA', 'NSW'), ('SA', 'V'),\n",
    "    ('Q', 'NSW'),\n",
    "    ('NSW', 'V'),\n",
    "    # 태즈메이니아('T')는 다른 주와 인접하지 않으므로 제약 조건에 포함하지 않습니다.\n",
    "]"
   ]
  },
  {
   "cell_type": "code",
   "execution_count": 3,
   "id": "066c4e45",
   "metadata": {},
   "outputs": [
    {
     "name": "stdout",
     "output_type": "stream",
     "text": [
      "{'SA': 'blue', 'NSW': 'green', 'Q': 'red', 'NT': 'green', 'V': 'red', 'WA': 'red', 'T': 'blue'}\n"
     ]
    }
   ],
   "source": [
    "# 제약 조건을 문제에 추가합니다.\n",
    "for x, y in constraints:\n",
    "    problem.addConstraint(lambda x, y: x != y, (x, y))\n",
    "\n",
    "# 가능한 해결책들을 찾습니다.\n",
    "solutions = problem.getSolutions()\n",
    "\n",
    "# 찾은 첫 번째 해결책을 표시합니다.\n",
    "first_solution = solutions[0] if solutions else None\n",
    "print(first_solution)"
   ]
  },
  {
   "cell_type": "code",
   "execution_count": null,
   "id": "31167fbc",
   "metadata": {},
   "outputs": [],
   "source": []
  }
 ],
 "metadata": {
  "kernelspec": {
   "display_name": "Python 3 (ipykernel)",
   "language": "python",
   "name": "python3"
  },
  "language_info": {
   "codemirror_mode": {
    "name": "ipython",
    "version": 3
   },
   "file_extension": ".py",
   "mimetype": "text/x-python",
   "name": "python",
   "nbconvert_exporter": "python",
   "pygments_lexer": "ipython3",
   "version": "3.9.12"
  }
 },
 "nbformat": 4,
 "nbformat_minor": 5
}
