{
 "cells": [
  {
   "cell_type": "code",
   "execution_count": 1,
   "id": "2f570e2f",
   "metadata": {},
   "outputs": [],
   "source": [
    "from constraint import *"
   ]
  },
  {
   "cell_type": "code",
   "execution_count": 2,
   "id": "83772163",
   "metadata": {},
   "outputs": [],
   "source": [
    "# 대한민국의 광역시와 특별자치시도\n",
    "regions = [\"서울특별시\", \"부산광역시\", \"대구광역시\", \"인천광역시\", \"광주광역시\", \"대전광역시\", \"울산광역시\", \"세종특별자치시\", \n",
    "           \"경기도\", \"강원도\", \"충청북도\", \"충청남도\", \"전라북도\", \"전라남도\", \"경상북도\", \"경상남도\", \"제주특별자치도\"]\n",
    "\n",
    "# 인접한 지역 정보\n",
    "adjacencies = {\n",
    "    \"서울특별시\": [\"경기도\"],\n",
    "    \"부산광역시\": [\"경상남도\"],\n",
    "    \"대구광역시\": [\"경상북도\"],\n",
    "    \"인천광역시\": [\"경기도\"],\n",
    "    \"광주광역시\": [\"전라남도\"],\n",
    "    \"대전광역시\": [\"충청남도\", \"충청북도\"],\n",
    "    \"울산광역시\": [\"경상남도\"],\n",
    "    \"세종특별자치시\": [\"충청남도\"],\n",
    "    \"경기도\": [\"서울특별시\", \"인천광역시\", \"충청북도\", \"강원도\"],\n",
    "    \"강원도\": [\"경기도\", \"충청북도\"],\n",
    "    \"충청북도\": [\"서울특별시\", \"대전광역시\", \"충청남도\", \"강원도\", \"경기도\"],\n",
    "    \"충청남도\": [\"세종특별자치시\", \"대전광역시\", \"충청북도\", \"경상남도\"],\n",
    "    \"전라북도\": [\"전라남도\", \"경상북도\"],\n",
    "    \"전라남도\": [\"광주광역시\", \"경상남도\", \"전라북도\"],\n",
    "    \"경상북도\": [\"대구광역시\", \"울산광역시\", \"경상남도\", \"전라북도\"],\n",
    "    \"경상남도\": [\"부산광역시\", \"울산광역시\", \"대구광역시\", \"경상북도\", \"전라남도\", \"충청남도\"],\n",
    "    \"제주특별자치도\": []  # 제주는 다른 지역과 인접하지 않음\n",
    "}\n",
    "\n",
    "# 문제 초기화\n",
    "problem = Problem()"
   ]
  },
  {
   "cell_type": "code",
   "execution_count": 3,
   "id": "eb3f90a2",
   "metadata": {},
   "outputs": [],
   "source": [
    "# 각 지역에 대해 색상 변수를 추가합니다.\n",
    "problem.addVariables(regions, [1, 2, 3])"
   ]
  },
  {
   "cell_type": "code",
   "execution_count": 4,
   "id": "a4dac9da",
   "metadata": {},
   "outputs": [],
   "source": [
    "# 인접한 지역은 서로 다른 색을 가져야 합니다.\n",
    "for region, neighbors in adjacencies.items():\n",
    "    for neighbor in neighbors:\n",
    "        problem.addConstraint(lambda x, y: x != y, (region, neighbor))"
   ]
  },
  {
   "cell_type": "code",
   "execution_count": 5,
   "id": "448f7a00",
   "metadata": {},
   "outputs": [],
   "source": [
    "# 해결책 찾기\n",
    "solutions = problem.getSolutions()"
   ]
  },
  {
   "cell_type": "code",
   "execution_count": 6,
   "id": "bf6d36cb",
   "metadata": {},
   "outputs": [
    {
     "name": "stdout",
     "output_type": "stream",
     "text": [
      "총 해결책 수: 6912\n",
      "한 예시 해결책: {'경상남도': 3, '충청북도': 3, '경기도': 2, '충청남도': 2, '경상북도': 2, '전라남도': 2, '강원도': 1, '대전광역시': 1, '전라북도': 3, '대구광역시': 1, '서울특별시': 1, '울산광역시': 1, '광주광역시': 3, '부산광역시': 2, '세종특별자치시': 3, '인천광역시': 3, '제주특별자치도': 3}\n"
     ]
    }
   ],
   "source": [
    "# 결과 출력\n",
    "print(f\"총 해결책 수: {len(solutions)}\")\n",
    "if solutions:\n",
    "    print(\"한 예시 해결책:\", solutions[0])"
   ]
  },
  {
   "cell_type": "code",
   "execution_count": null,
   "id": "26b608d8",
   "metadata": {},
   "outputs": [],
   "source": []
  }
 ],
 "metadata": {
  "kernelspec": {
   "display_name": "Python 3 (ipykernel)",
   "language": "python",
   "name": "python3"
  },
  "language_info": {
   "codemirror_mode": {
    "name": "ipython",
    "version": 3
   },
   "file_extension": ".py",
   "mimetype": "text/x-python",
   "name": "python",
   "nbconvert_exporter": "python",
   "pygments_lexer": "ipython3",
   "version": "3.9.12"
  }
 },
 "nbformat": 4,
 "nbformat_minor": 5
}
